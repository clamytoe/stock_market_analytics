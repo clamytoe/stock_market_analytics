{
 "cells": [
  {
   "cell_type": "markdown",
   "id": "d97809d2-d7aa-44f8-8248-435e39ca62e5",
   "metadata": {},
   "source": [
    "# Module 1 Homework\n",
    "\n",
    "In this homework, we're going to download finance data from various sources and make simple calculations/analysis."
   ]
  },
  {
   "cell_type": "code",
   "execution_count": 1,
   "id": "64dea466-91c9-4cb8-8b11-00a5d894d781",
   "metadata": {},
   "outputs": [],
   "source": [
    "import time\n",
    "import pytz\n",
    "from datetime import date, datetime, timedelta\n",
    "\n",
    "import numpy as np\n",
    "import pandas as pd\n",
    "import yfinance as yf\n",
    "\n",
    "import matplotlib.pyplot as plt\n",
    "import matplotlib.ticker as mtick\n",
    "import pandas_datareader as pdr\n",
    "import plotly.graph_objs as go\n",
    "import plotly.express as px\n",
    "\n",
    "# Set the timezone\n",
    "utc = pytz.UTC"
   ]
  },
  {
   "cell_type": "markdown",
   "id": "fc8401b9-93f0-4dea-a427-ad4a94766283",
   "metadata": {},
   "source": [
    "## Question 1: [Macro] Average growth of GDP in 2023\n",
    "\n",
    "**What is the average growth (in %) of GDP in 2023?**\n",
    "\n",
    "Download the timeseries Real Gross Domestic Product (GDPC1) from FRED (https://fred.stlouisfed.org/series/GDPC1). \n",
    "Calculate year-over-year (YoY) growth rate (that is, divide current value to one 4 quarters ago). Find the average YoY growth in 2023 (average from 4 YoY numbers).\n",
    "Round to 1 digit after the decimal point: e.g. if you get 5.66% growth => you should answer  5.7"
   ]
  },
  {
   "cell_type": "code",
   "execution_count": 2,
   "id": "9edcb38f-621d-4cac-8179-f7ccee6aa7d1",
   "metadata": {},
   "outputs": [
    {
     "name": "stdout",
     "output_type": "stream",
     "text": [
      "Year = 2024; month= 4; day=22\n",
      "Period for indexes: 1954-04-22 to 2024-04-22 \n",
      "The average YoY growth rate in 2023 is: 2.5%\n"
     ]
    }
   ],
   "source": [
    "# Get the current date\n",
    "end = date.today()\n",
    "print(f'Year = {end.year}; month= {end.month}; day={end.day}')\n",
    "\n",
    "# Set the start date to 70 years ago\n",
    "start = date(year=end.year-70, month=end.month, day=end.day)\n",
    "print(f'Period for indexes: {start} to {end} ')\n",
    "\n",
    "# Fetch the GDPC1 data from FRED\n",
    "gdpc1 = pdr.DataReader(\"GDPC1\", \"fred\", start=start)\n",
    "\n",
    "# Calculate the YoY growth rate\n",
    "gdpc1['YoY_Growth'] = gdpc1['GDPC1'].pct_change(periods=4) * 100\n",
    "\n",
    "# Calculate the average YoY growth rate for 2023\n",
    "avg_yoy_2023 = gdpc1.loc['2023-01-01':'2023-12-31', 'YoY_Growth'].mean()\n",
    "\n",
    "print(f\"The average YoY growth rate in 2023 is: {avg_yoy_2023:.1f}%\")"
   ]
  },
  {
   "cell_type": "markdown",
   "id": "07c950ce-f944-4656-b7eb-cdca678ad472",
   "metadata": {},
   "source": [
    "## Question 2. [Macro] Inverse \"Treasury Yield\"\n",
    "\n",
    "**Find the min value of (dgs10-dgs2) after since year 2000 (2000-01-01) and write it down as an answer, round to 1 digit after the decimal point.**\n",
    "\n",
    "\n",
    "Download DGS2 and DGS10 interest rates series (https://fred.stlouisfed.org/series/DGS2,\n",
    " https://fred.stlouisfed.org/series/DGS10). Join them together to one dataframe on date (you might need to read about pandas.DataFrame.join()), calculate the difference dgs10-dgs2 daily.\n",
    "\n",
    "(Additional: think about what does the \"inverted yield curve\" mean for the market and investors? do you see the same thing in your country/market of interest? Do you think it can be a good predictive feature for the models?)"
   ]
  },
  {
   "cell_type": "code",
   "execution_count": 3,
   "id": "8261d7d2-20a5-4795-b6ed-622be2e054a4",
   "metadata": {},
   "outputs": [
    {
     "name": "stdout",
     "output_type": "stream",
     "text": [
      "The minimum value of (DGS10 - DGS2) since 2000-01-01 is: -1.1\n"
     ]
    }
   ],
   "source": [
    "# Fetch the DGS2 and DGS10 data from FRED\n",
    "start = date(2000, 1, 1)\n",
    "dgs2 = pdr.DataReader(\"DGS2\", \"fred\", start=start, end=end)\n",
    "dgs10 = pdr.DataReader(\"DGS10\", \"fred\", start=start, end=end)\n",
    "\n",
    "# Calculate the difference between DGS2 and DGS10\n",
    "df = pd.concat([dgs2, dgs10], axis=1)\n",
    "df['Difference'] = df['DGS10'] - df['DGS2']\n",
    "\n",
    "# Find the minimum value of the difference, rounded to 1 decimal place\n",
    "min_difference = round(df['Difference'].min(), 1)\n",
    "\n",
    "print(f\"The minimum value of (DGS10 - DGS2) since 2000-01-01 is: {min_difference}\")"
   ]
  },
  {
   "cell_type": "markdown",
   "id": "5af11796-a290-4b66-bb4c-6042c5aa7aad",
   "metadata": {},
   "source": [
    "**BONUS**: In the context of other countries/markets, the inverted yield curve can also be a useful predictive feature for economic models. For example, in the Eurozone, the European Central Bank (ECB) has also noted the usefulness of the yield curve inversion as a signal of potential recession risks.\n",
    "\n",
    "However, it's important to note that the relationship between the yield curve and recessions is not always straightforward. The yield curve can be distorted by factors such as central bank asset purchase programs and foreign central bank reserve accumulation, which can compress long-term yields and lead to an inversion even in the absence of imminent recession risks.\n",
    "\n",
    "Therefore, while the inverted yield curve remains a valuable indicator, it should be considered alongside other economic data and factors when assessing the likelihood of a future recession. A comprehensive analysis is necessary to make informed investment decisions."
   ]
  },
  {
   "cell_type": "markdown",
   "id": "1412faa2-627c-4647-88a7-4c5ef6ccf1b8",
   "metadata": {},
   "source": [
    "## Question 3. [Index] Which Index is better recently?\n",
    "\n",
    "**Compare S&P 500 and IPC Mexico indexes by the 5 year growth and write down the largest value as an answer (%)**\n",
    "\n",
    "Download on Yahoo Finance two daily index prices for S&P 500 (^GSPC, https://finance.yahoo.com/quote/%5EGSPC/) and IPC Mexico (^MXX, https://finance.yahoo.com/quote/%5EMXX/). Compare 5Y growth for both (between 2019-04-09 and 2024-04-09). Select the higher growing index and write down the growth in % (closest integer %). E.g. if ratio end/start was 2.0925 (or growth of 109.25%), you need to write down 109 as your answer.\n",
    "\n",
    "(Additional: think of other indexes and try to download stats and compare the growth? Do create 10Y and 20Y growth stats. What is an average yearly growth rate (CAGR) for each of the indexes you select?)"
   ]
  },
  {
   "cell_type": "code",
   "execution_count": 8,
   "id": "46d62356-e116-4079-a795-ad8152899930",
   "metadata": {},
   "outputs": [
    {
     "name": "stdout",
     "output_type": "stream",
     "text": [
      "S&P 500 index had the higher 5-year growth at 81%.\n"
     ]
    }
   ],
   "source": [
    "# Download S&P 500 index data\n",
    "sp500 = yf.Ticker(\"^GSPC\")\n",
    "sp500_data = sp500.history(start=\"2019-04-09\", end=\"2024-04-09\")\n",
    "\n",
    "# Download IPC Mexico index data\n",
    "ipc_mexico = yf.Ticker(\"^MXX\")\n",
    "ipc_mexico_data = ipc_mexico.history(start=\"2019-04-09\", end=\"2024-04-09\")\n",
    "\n",
    "# Calculate 5-year growth\n",
    "sp500_growth = (sp500_data['Close'].iloc[-1] / sp500_data['Close'].iloc[0]) - 1\n",
    "ipc_mexico_growth = (ipc_mexico_data['Close'].iloc[-1] / ipc_mexico_data['Close'].iloc[0]) - 1\n",
    "\n",
    "# Determine the index with the higher growth\n",
    "if sp500_growth > ipc_mexico_growth:\n",
    "    print(f\"S&P 500 index had the higher 5-year growth at {round(sp500_growth * 100)}%.\")\n",
    "else:\n",
    "    print(f\"IPC Mexico index had the higher 5-year growth at {round(ipc_mexico_growth * 100)}%.\")"
   ]
  },
  {
   "cell_type": "markdown",
   "id": "ac075d2d-7dad-4d5b-b0c3-2bb34ed9d642",
   "metadata": {},
   "source": [
    "**BONUS:** Additional question"
   ]
  },
  {
   "cell_type": "code",
   "execution_count": 9,
   "id": "bc8bcb80-8722-46de-9a6d-9366a9c1e9b2",
   "metadata": {},
   "outputs": [
    {
     "name": "stdout",
     "output_type": "stream",
     "text": [
      "10-year CAGR:\n",
      "^GSPC: 10.23%\n",
      "^IXIC: 14.03%\n",
      "^DJI: 8.7%\n",
      "^FTSE: 1.61%\n",
      "^GDAXI: 6.02%\n",
      "^N225: 9.06%\n",
      "\n",
      "20-year CAGR:\n",
      "^GSPC: 7.86%\n",
      "^IXIC: 10.93%\n",
      "^DJI: 6.88%\n",
      "^FTSE: 2.93%\n",
      "^GDAXI: 8.02%\n",
      "^N225: 6.3%\n"
     ]
    }
   ],
   "source": [
    "# Define the indexes to analyze\n",
    "indexes = [\n",
    "    \"^GSPC\",  # S&P 500\n",
    "    \"^IXIC\",  # Nasdaq Composite\n",
    "    \"^DJI\",   # Dow Jones Industrial Average\n",
    "    \"^FTSE\",  # FTSE 100\n",
    "    \"^GDAXI\", # DAX\n",
    "    \"^N225\"   # Nikkei 225\n",
    "]\n",
    "\n",
    "# Download the historical data for each index\n",
    "data = {}\n",
    "for index in indexes:\n",
    "    ticker = yf.Ticker(index)\n",
    "    data[index] = ticker.history(period=\"max\")\n",
    "\n",
    "# Calculate the 10-year and 20-year CAGR for each index\n",
    "cagr_10y = {}\n",
    "cagr_20y = {}\n",
    "for index, df in data.items():\n",
    "    start_10y = df.index[-251 * 10]\n",
    "    start_20y = df.index[-251 * 20]\n",
    "    end = df.index[-1]\n",
    "    \n",
    "    cagr_10y[index] = ((df.loc[end, 'Close'] / df.loc[start_10y, 'Close'])**(1/10)) - 1\n",
    "    cagr_20y[index] = ((df.loc[end, 'Close'] / df.loc[start_20y, 'Close'])**(1/20)) - 1\n",
    "\n",
    "# Print the results\n",
    "print(\"10-year CAGR:\")\n",
    "for index, cagr in cagr_10y.items():\n",
    "    print(f\"{index}: {round(cagr * 100, 2)}%\")\n",
    "\n",
    "print(\"\\n20-year CAGR:\")\n",
    "for index, cagr in cagr_20y.items():\n",
    "    print(f\"{index}: {round(cagr * 100, 2)}%\")"
   ]
  },
  {
   "cell_type": "markdown",
   "id": "0fd29cfd-267a-4695-8281-7182eb8d1bcc",
   "metadata": {},
   "source": [
    "## Question 4. [Stocks OHLCV] 52-weeks range ratio (2023) for the selected stocks\n",
    "\n",
    "\n",
    "**Find the largest range ratio [=(max-min)/max] of Adj.Close prices in 2023**\n",
    "\n",
    "\n",
    "Download the 2023 daily OHLCV data on Yahoo Finance for top6 stocks on earnings (https://companiesmarketcap.com/most-profitable-companies/): 2222.SR,BRK-B, AAPL, MSFT, GOOG, JPM.\n",
    "\n",
    "Here is the example data you should see in Pandas for \"2222.SR\": https://finance.yahoo.com/quote/2222.SR/history\n",
    "\n",
    "Calculate maximum-minimim \"Adj.Close\" price for each stock and divide it by the maximum \"Adj.Close\" value.\n",
    "Round the result to two decimal places (e.g. 0.1575 will be 0.16)\n",
    "\n",
    "(Additional: why this may be important for your research?)"
   ]
  },
  {
   "cell_type": "code",
   "execution_count": 6,
   "id": "03c7b007-0324-4783-9c88-283debb57f82",
   "metadata": {},
   "outputs": [
    {
     "name": "stderr",
     "output_type": "stream",
     "text": [
      "[*********************100%%**********************]  1 of 1 completed\n",
      "[*********************100%%**********************]  1 of 1 completed\n",
      "[*********************100%%**********************]  1 of 1 completed\n",
      "[*********************100%%**********************]  1 of 1 completed\n",
      "[*********************100%%**********************]  1 of 1 completed\n",
      "[*********************100%%**********************]  1 of 1 completed"
     ]
    },
    {
     "name": "stdout",
     "output_type": "stream",
     "text": [
      "The stock with the largest 52-week range ratio (2023) is MSFT with a ratio of 0.42\n"
     ]
    },
    {
     "name": "stderr",
     "output_type": "stream",
     "text": [
      "\n"
     ]
    }
   ],
   "source": [
    "# Download the 2023 daily OHLCV data for the 6 stocks\n",
    "tickers = ['2222.SR', 'BRK-B', 'AAPL', 'MSFT', 'GOOG', 'JPM']\n",
    "data = {}\n",
    "for ticker in tickers:\n",
    "    df = yf.download(ticker, start='2023-01-01', end='2023-12-31')\n",
    "    data[ticker] = df\n",
    "\n",
    "# Calculate the range ratio for each stock\n",
    "range_ratios = {}\n",
    "for ticker, df in data.items():\n",
    "    max_price = df['Adj Close'].max()\n",
    "    min_price = df['Adj Close'].min()\n",
    "    range_ratio = round((max_price - min_price) / max_price, 2)\n",
    "    range_ratios[ticker] = range_ratio\n",
    "\n",
    "# Find the largest range ratio\n",
    "largest_range_ratio = max(range_ratios.values())\n",
    "largest_stock = [k for k, v in range_ratios.items() if v == largest_range_ratio][0]\n",
    "\n",
    "print(f\"The stock with the largest 52-week range ratio (2023) is {largest_stock} with a ratio of {largest_range_ratio}\")"
   ]
  },
  {
   "cell_type": "markdown",
   "id": "ebc99781-2d16-4ad1-9aec-3bc3f4017be4",
   "metadata": {},
   "source": [
    "**BONUS**: The range ratio is an important metric for understanding the volatility of a stock's price. A higher range ratio indicates a larger difference between the highest and lowest prices, which can be a sign of higher volatility. This information can be useful for investors when evaluating the risk and potential returns of a stock.\n",
    "\n",
    "For example, a stock with a high range ratio may be more attractive to investors who are willing to take on higher risk in exchange for the potential for higher returns. Conversely, a stock with a low range ratio may be more appealing to investors who are more risk-averse and prefer more stable returns.\n",
    "\n",
    "Additionally, the range ratio can be used in conjunction with other technical analysis indicators to identify potential trading opportunities or to assess the overall market conditions. For instance, a stock with a high range ratio may be more susceptible to sudden price swings, which could present opportunities for short-term traders."
   ]
  },
  {
   "cell_type": "markdown",
   "id": "7a822b55-3895-4096-bc36-82660e1a3181",
   "metadata": {},
   "source": [
    "## Question 5. [Stocks] Dividend Yield\n",
    "\n",
    "**Find the largest dividend yield for the same set of stocks**\n",
    "\n",
    "Use the same list of companies (2222.SR,BRK-B, AAPL, MSFT, GOOG, JPM) and download all dividends paid in 2023.\n",
    "You can use `get_actions()` method or `.dividends` field in yfinance library (https://github.com/ranaroussi/yfinance?tab=readme-ov-file#quick-start)\n",
    "\n",
    "Sum up all dividends paid in 2023 per company and divide each value by the closing price (Adj.Close) at the last trading day of the year.\n",
    "\n",
    "Find the maximm value in % and round to 1 digit after the decimal point. (E.g., if you obtained $1.25 dividends paid and the end year stock price is $100, the dividend yield is 1.25% -- and your answer should be equal to 1.3)"
   ]
  },
  {
   "cell_type": "code",
   "execution_count": 7,
   "id": "8f8a0a54-6b3b-4152-b15b-5fb60d53abce",
   "metadata": {},
   "outputs": [
    {
     "name": "stderr",
     "output_type": "stream",
     "text": [
      "/tmp/ipykernel_14858/1117813815.py:19: FutureWarning: Series.__getitem__ treating keys as positions is deprecated. In a future version, integer keys will always be treated as labels (consistent with DataFrame behavior). To access a value by position, use `ser.iloc[pos]`\n",
      "  last_price = stock.history(period='1y')['Close'][-1]\n",
      "/tmp/ipykernel_14858/1117813815.py:19: FutureWarning: Series.__getitem__ treating keys as positions is deprecated. In a future version, integer keys will always be treated as labels (consistent with DataFrame behavior). To access a value by position, use `ser.iloc[pos]`\n",
      "  last_price = stock.history(period='1y')['Close'][-1]\n",
      "/tmp/ipykernel_14858/1117813815.py:19: FutureWarning: Series.__getitem__ treating keys as positions is deprecated. In a future version, integer keys will always be treated as labels (consistent with DataFrame behavior). To access a value by position, use `ser.iloc[pos]`\n",
      "  last_price = stock.history(period='1y')['Close'][-1]\n",
      "/tmp/ipykernel_14858/1117813815.py:19: FutureWarning: Series.__getitem__ treating keys as positions is deprecated. In a future version, integer keys will always be treated as labels (consistent with DataFrame behavior). To access a value by position, use `ser.iloc[pos]`\n",
      "  last_price = stock.history(period='1y')['Close'][-1]\n",
      "/tmp/ipykernel_14858/1117813815.py:19: FutureWarning: Series.__getitem__ treating keys as positions is deprecated. In a future version, integer keys will always be treated as labels (consistent with DataFrame behavior). To access a value by position, use `ser.iloc[pos]`\n",
      "  last_price = stock.history(period='1y')['Close'][-1]\n"
     ]
    },
    {
     "name": "stdout",
     "output_type": "stream",
     "text": [
      "The maximum dividend yield is 3.0%. for 2222.SR\n"
     ]
    },
    {
     "name": "stderr",
     "output_type": "stream",
     "text": [
      "/tmp/ipykernel_14858/1117813815.py:19: FutureWarning: Series.__getitem__ treating keys as positions is deprecated. In a future version, integer keys will always be treated as labels (consistent with DataFrame behavior). To access a value by position, use `ser.iloc[pos]`\n",
      "  last_price = stock.history(period='1y')['Close'][-1]\n"
     ]
    }
   ],
   "source": [
    "# Define the list of stocks\n",
    "tickers = ['2222.SR', 'BRK-B', 'AAPL', 'MSFT', 'GOOG', 'JPM']\n",
    "\n",
    "# Initialize an empty dictionary to store the results\n",
    "results = {}\n",
    "\n",
    "# Loop through each stock\n",
    "for ticker in tickers:\n",
    "    # Get the stock data\n",
    "    stock = yf.Ticker(ticker)\n",
    "    \n",
    "    # Get the dividends paid in 2023\n",
    "    dividends_2023 = stock.dividends[utc.localize(pd.Timestamp('2023-01-01')):utc.localize(pd.Timestamp('2023-12-31'))]\n",
    "    \n",
    "    # Sum up the dividends\n",
    "    total_dividends = dividends_2023.sum()\n",
    "    \n",
    "    # Get the closing price at the last trading day of 2023\n",
    "    last_price = stock.history(period='1y')['Close'][-1]\n",
    "    \n",
    "    # Calculate the dividend yield\n",
    "    dividend_yield = (total_dividends / last_price) * 100\n",
    "    \n",
    "    # Round the dividend yield to 1 decimal place\n",
    "    dividend_yield = round(dividend_yield, 1)\n",
    "    \n",
    "    # Store the results in the dictionary\n",
    "    results[ticker] = dividend_yield\n",
    "\n",
    "# Find the maximum dividend yield\n",
    "max_dividend_yield = max(results.values())\n",
    "max_dividend_stock = [k for k, v in results.items() if v == max_dividend_yield][0]\n",
    "\n",
    "# Print the result\n",
    "print(f\"The maximum dividend yield is {max_dividend_yield}%. for {max_dividend_stock}\")"
   ]
  },
  {
   "cell_type": "markdown",
   "id": "e2d6d664-9356-4613-9383-82fc9ceb347a",
   "metadata": {},
   "source": [
    "## Question 6. [Exploratory] Investigate new metrics\n",
    "\n",
    "**Free text answer**\n",
    "\n",
    "Download and explore a few additional metrics or time series that might be valuable for your project and write down why (briefly)."
   ]
  },
  {
   "cell_type": "markdown",
   "id": "5bb88339-fd93-4268-a842-8f07128f2513",
   "metadata": {},
   "source": [
    "The most beneficial dataset for a penny stock retail trader from the FRED - Federal Reserve Economic Data available on Nasdaq Data Link would be the NASDAQ Composite Index (NASDAQCOM).\n",
    "\n",
    "The NASDAQ Composite Index tracks the performance of over 3,000 common equities listed on the NASDAQ stock exchange, including many penny stocks. As a penny stock trader, closely monitoring the overall movement of the NASDAQ Composite Index can provide valuable insights into the broader market sentiment and trends that can impact the performance of penny stocks.\n",
    "\n",
    "The NASDAQ Composite Index is a market capitalization-weighted index, meaning it gives more weight to larger, more liquid stocks. However, it still includes a significant number of smaller, lower-priced penny stocks that are often the focus of retail traders. Tracking the NASDAQ Composite Index can help a penny stock trader gauge the overall market conditions and identify potential opportunities or risks for their investments.\n",
    "\n",
    "Additionally, the NASDAQ Composite Index data is updated daily, providing real-time information that is crucial for active penny stock traders to make informed decisions. By closely monitoring the NASDAQ Composite Index, a penny stock trader can better understand the broader market dynamics and adjust their trading strategies accordingly.\n",
    "\n",
    "The key metrics of the NASDAQ Composite Index that would be of most interest to a day trader are:\n",
    "\n",
    "1. Daily Closing Price:\n",
    "   - The daily closing price of the NASDAQ Composite Index is a crucial metric for day traders, as it reflects the overall market sentiment and performance at the end of the trading day.\n",
    "   - Monitoring the daily closing price can help day traders identify trends, support/resistance levels, and make informed trading decisions for their penny stock positions.\n",
    "\n",
    "2. Intraday Price Movements:\n",
    "   - In addition to the daily closing price, day traders would closely follow the intraday price movements of the NASDAQ Composite Index.\n",
    "   - Sudden or significant intraday fluctuations in the index can signal volatility in the broader market, which can impact the performance of penny stocks.\n",
    "   - Tracking the intraday price action can help day traders time their entries and exits more effectively.\n",
    "\n",
    "3. 52-Week High and Low:\n",
    "   - The 52-week high and low of the NASDAQ Composite Index provide context on the index's historical performance and can help day traders identify potential support and resistance levels.\n",
    "   - Monitoring the 52-week range can assist day traders in assessing the overall market sentiment and positioning their penny stock trades accordingly.\n",
    "\n",
    "By closely monitoring these key metrics of the NASDAQ Composite Index, day traders can gain valuable insights into the broader market conditions and make more informed trading decisions for their penny stock portfolios."
   ]
  },
  {
   "cell_type": "markdown",
   "id": "88d96431-ed68-4027-b3cd-1e59154e718c",
   "metadata": {},
   "source": [
    "## Question 7. [Exploratory] Time-driven strategy description around earnings releases\n",
    "\n",
    "**Free text answer**\n",
    "\n",
    "Explore earning dates for the whole month of April - e.g. using YahooFinance earnings calendar (https://finance.yahoo.com/calendar/earnings?from=2024-04-21&to=2024-04-27&day=2024-04-23). Compare with the previous closed earnings (e.g., recent dates with full data https://finance.yahoo.com/calendar/earnings?from=2024-04-07&to=2024-04-13&day=2024-04-08). \n",
    "\n",
    "Describe an analytical strategy/idea (you're not required to implement it) to select a subset companies of interest based on the future events data."
   ]
  },
  {
   "cell_type": "markdown",
   "id": "f19adcda-6918-4444-a5c3-d0e9a24e6ff0",
   "metadata": {},
   "source": [
    "To develop an analytical strategy for selecting a subset of companies of interest based on the upcoming earnings calendar data, I would consider the following steps:\n",
    "\n",
    "1. Analyze the Previous Earnings Period (2024-04-07 to 2024-04-13):\n",
    "   - Identify the companies that reported earnings during this period and their key financial metrics, such as revenue, earnings per share (EPS), and any notable commentary from management.\n",
    "   - Assess how the market reacted to these earnings results - did the stock prices rise, fall, or remain relatively unchanged?\n",
    "   - Look for any trends or patterns in the previous earnings season that could provide insights into the upcoming period.\n",
    "\n",
    "2. Examine the Upcoming Earnings Period (2024-04-21 to 2024-04-27):\n",
    "   - Identify the companies scheduled to report earnings during this time frame.\n",
    "   - Categorize the companies based on factors such as industry, market capitalization, growth profile, and valuation metrics.\n",
    "   - Prioritize companies that are likely to be of interest to a penny stock day trader, such as those with high volatility, low share prices, and potential for significant price movements.\n",
    "\n",
    "3. Develop a Selection Criteria:\n",
    "   - Establish a set of criteria to filter the upcoming earnings companies, such as:\n",
    "     - Companies with a history of significant price movements around earnings\n",
    "     - Companies with a market capitalization under a certain threshold (e.g., $1 billion)\n",
    "     - Companies with a current stock price below a certain level (e.g., $10 per share)\n",
    "     - Companies with a high degree of analyst coverage and expectations\n",
    "\n",
    "4. Analyze the Selected Companies:\n",
    "   - For the subset of companies that meet the selection criteria, conduct a more in-depth analysis, including:\n",
    "     - Review analyst estimates and any recent revisions to understand market expectations\n",
    "     - Assess the company's financial health, growth prospects, and potential catalysts\n",
    "     - Identify any potential risks or uncertainties that could impact the stock price\n",
    "\n",
    "5. Develop a Trading Strategy:\n",
    "   - Based on the analysis, determine a trading strategy for the selected companies, such as:\n",
    "     - Identifying potential entry and exit points based on technical analysis and market sentiment\n",
    "     - Determining appropriate position sizes and risk management techniques\n",
    "     - Monitoring the companies' earnings results and any subsequent market reactions\n",
    "\n",
    "By following this analytical approach, a penny stock day trader can systematically identify a subset of companies from the upcoming earnings calendar that align with their investment criteria and develop a well-informed trading strategy."
   ]
  },
  {
   "cell_type": "markdown",
   "id": "4bb5a430-8fa4-496c-9fc9-fa495c93b018",
   "metadata": {},
   "source": [
    "## Submitting the solutions\n",
    "\n",
    "Form for submitting: https://courses.datatalks.club/sma-zoomcamp-2024/homework/hw01"
   ]
  }
 ],
 "metadata": {
  "kernelspec": {
   "display_name": "Python 3 (ipykernel)",
   "language": "python",
   "name": "python3"
  },
  "language_info": {
   "codemirror_mode": {
    "name": "ipython",
    "version": 3
   },
   "file_extension": ".py",
   "mimetype": "text/x-python",
   "name": "python",
   "nbconvert_exporter": "python",
   "pygments_lexer": "ipython3",
   "version": "3.11.8"
  }
 },
 "nbformat": 4,
 "nbformat_minor": 5
}
